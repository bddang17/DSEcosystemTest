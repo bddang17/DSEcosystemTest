{
 "cells": [
  {
   "cell_type": "markdown",
   "id": "5feb9f50-42d3-45fc-ad44-0a931b3d7de1",
   "metadata": {},
   "source": [
    "# Data Science Tools and Ecosystem"
   ]
  },
  {
   "cell_type": "markdown",
   "id": "e57ec474-1697-492a-8871-6399d7987a8b",
   "metadata": {},
   "source": [
    "In this notebook, Data Science Tools and Ecosystem are summarized"
   ]
  },
  {
   "cell_type": "markdown",
   "id": "08e41ee6-5bd5-4d40-91f7-64ec4ca5e9d2",
   "metadata": {},
   "source": [
    "#### Objectives:\n",
    "- List popular languages for Data Science\n",
    "- List libraries commonly used in Data Science\n",
    "- Create a table listing Data Science developer environment tools\n",
    "- Create code cells with arithmetic functions"
   ]
  },
  {
   "cell_type": "markdown",
   "id": "059a65d9-7b47-44a1-8494-99474466a7ad",
   "metadata": {},
   "source": [
    "##### Some of the popular languages that Data Scientists use are:\n",
    "1. Python\n",
    "2. R\n",
    "3. Julia\n",
    "4. SQL"
   ]
  },
  {
   "cell_type": "markdown",
   "id": "0946ec8a-e4c8-4eeb-aa7c-9dc361049d35",
   "metadata": {},
   "source": [
    "##### Some of the commonly used libraries used by Data Scientists include:\n",
    "1. NumPy\n",
    "2. Scikit-learn\n",
    "3. Matplotlib"
   ]
  },
  {
   "cell_type": "markdown",
   "id": "5e59cb56-8a61-48dc-a6dc-2b25aa8c7c70",
   "metadata": {},
   "source": [
    "| Data Science Tools |\n",
    "| ------------------ |\n",
    "| JupyterLab |\n",
    "| R Studio |\n",
    "| Apache Zeppelin |"
   ]
  },
  {
   "cell_type": "markdown",
   "id": "229ceb90-a32c-4a26-8bd2-ef5bc1bf1278",
   "metadata": {},
   "source": [
    "### Below are a few examples of evaluating arithmetic expression in Python"
   ]
  },
  {
   "cell_type": "code",
   "execution_count": 1,
   "id": "98d8189f-b09a-4532-a7d8-945e77e92401",
   "metadata": {
    "tags": []
   },
   "outputs": [
    {
     "data": {
      "text/plain": [
       "17"
      ]
     },
     "execution_count": 1,
     "metadata": {},
     "output_type": "execute_result"
    }
   ],
   "source": [
    "# This is a simple arithmetic expression to multiply then add integers\n",
    "(3*4)+5"
   ]
  },
  {
   "cell_type": "code",
   "execution_count": 3,
   "id": "038133dd-725c-4cf6-ac55-29832f65a484",
   "metadata": {
    "tags": []
   },
   "outputs": [
    {
     "data": {
      "text/plain": [
       "3.3333333333333335"
      ]
     },
     "execution_count": 3,
     "metadata": {},
     "output_type": "execute_result"
    }
   ],
   "source": [
    "# This will convert 200 minutes to hours by dividing by 60\n",
    "200 / 60"
   ]
  },
  {
   "cell_type": "markdown",
   "id": "116b9192-a2cf-42fc-8b30-29aef5a289a2",
   "metadata": {},
   "source": [
    "## Author\n",
    "Brandon Dang"
   ]
  },
  {
   "cell_type": "code",
   "execution_count": null,
   "id": "b73aa0a9-1ea0-4ff3-a57c-e1837e84ad17",
   "metadata": {},
   "outputs": [],
   "source": []
  }
 ],
 "metadata": {
  "kernelspec": {
   "display_name": "Python",
   "language": "python",
   "name": "conda-env-python-py"
  },
  "language_info": {
   "codemirror_mode": {
    "name": "ipython",
    "version": 3
   },
   "file_extension": ".py",
   "mimetype": "text/x-python",
   "name": "python",
   "nbconvert_exporter": "python",
   "pygments_lexer": "ipython3",
   "version": "3.7.12"
  }
 },
 "nbformat": 4,
 "nbformat_minor": 5
}
